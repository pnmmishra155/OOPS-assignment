{
  "nbformat": 4,
  "nbformat_minor": 0,
  "metadata": {
    "colab": {
      "provenance": []
    },
    "kernelspec": {
      "name": "python3",
      "display_name": "Python 3"
    },
    "language_info": {
      "name": "python"
    }
  },
  "cells": [
    {
      "cell_type": "markdown",
      "source": [
        "# Python OOPs Questions"
      ],
      "metadata": {
        "id": "JRnw_xbkMsgV"
      }
    },
    {
      "cell_type": "markdown",
      "source": [
        "## 1. What is Object-Oriented Programming (OOP)?\n",
        "- Object-Oriented Programming (OOP) is a way of writing programs using objects, which combine data and behavior. objects - instances of clasees that combines attributes and methods It helps make code more organized, reusable, and easier to maintain.\n",
        "\n",
        "Example :\n",
        "   \n",
        "    class Dog:\n",
        "    def __init__(self, name):\n",
        "        self.name = name\n",
        "      def bark(self):\n",
        "        print(f\"{self.name} barks!\")\n",
        "\n",
        "    dog1 = Dog(\"Buddy\")\n",
        "    dog1.bark()    Output: Buddy barks!"
      ],
      "metadata": {
        "id": "LX8LQ7opNJVB"
      }
    },
    {
      "cell_type": "markdown",
      "source": [
        "## 2. What is a class in OOP?\n",
        "- A class in Object-Oriented Programming is a blueprint for creating objects. It defines the properties (attributes) and behaviors (methods) that the objects created from it will have.\n",
        "\n",
        " example :\n",
        "\n",
        "      class Car:\n",
        "        def drive(self):\n",
        "            print(\"Car is driving\")\n",
        "\n",
        "      my_car = Car()\n",
        "      my_car.drive()  Output : Car is driving\n",
        "\n",
        "\n"
      ],
      "metadata": {
        "id": "I-dQv6eoNae9"
      }
    },
    {
      "cell_type": "markdown",
      "source": [
        "## 3. What is an object in OOP?\n",
        "- An object in OOP is an instance of a class. It represents a real-world entity with properties (data) and behaviors (methods) defined by the class.\n",
        "\n",
        "Example :   \n",
        "\n",
        "    class Student:\n",
        "        def study(self):\n",
        "            print(\"Student is studying\")\n",
        "\n",
        "    s1 = Student()  \n",
        "    s1.study()  Output : Student is studying\n",
        "Here, s1 is an object"
      ],
      "metadata": {
        "id": "Hr1rqzenNmUC"
      }
    },
    {
      "cell_type": "markdown",
      "source": [
        "## 4. What is the difference between abstraction and encapsulation?\n",
        "- Abstraction\n",
        "  - Definition : Hiding complex details and showing only the essential features.\n",
        "  - Purpose of abstraction is\tTo reduce complexity and increase clarity.\n",
        "  - It focuses on What an object does.\n",
        "  - Example\t: Using a print() function without knowing how it works internally.\n",
        "\n",
        "\n",
        "    class Animal:\n",
        "    def make_sound(self):  # only shows what it does\n",
        "        pass\n",
        "\n",
        "- Encapsulation\n",
        "  - Defination : Hiding the internal state and requiring all interaction to be performed through methods.\n",
        "  - Porpose of is to To protect data and ensure controlled access.\n",
        "  - it focuses on How an object does it.\n",
        "  - Example : Making variables private and accessing them via getters/setters.\n",
        "\n",
        "   \n",
        "    class Person:\n",
        "    def __init__(self):\n",
        "        self.__age = 0  # private variable\n",
        "\n",
        "    def set_age(self, age):\n",
        "        self.__age = age\n",
        "\n",
        "    def get_age(self):\n",
        "        return self.__age\n",
        "\n",
        "\n",
        "\n",
        "\n",
        "\n"
      ],
      "metadata": {
        "id": "8l_5RorWNqga"
      }
    },
    {
      "cell_type": "markdown",
      "source": [
        "## 5. What are dunder methods in Python?\n",
        "- Dunder methods in Python are special methods with double underscores (like __init__, __str__, __add__) used to define how objects behave with built-in functions and operators.\n",
        "\n",
        "Example:\n",
        "\n",
        "    class Book:\n",
        "        def __init__(self, title):\n",
        "            self.title = title\n",
        "\n",
        "        def __str__(self):\n",
        "            return f\"Book: {self.title}\"\n",
        "\n",
        "    book = Book(\"Python\")\n",
        "    print(book)  # Calls __str__, prints: Book: Python\n",
        "\n",
        "\n"
      ],
      "metadata": {
        "id": "L_puFv8xNxSV"
      }
    },
    {
      "cell_type": "markdown",
      "source": [
        "## 6. Explain the concept of inheritance in OOP.\n",
        "- Inheritance in OOP allows a class (called the child or subclass) to inherit properties and methods from another class (called the parent or superclass). It promotes code reuse and represents \"is-a\" relationships.\n",
        "\n",
        "Example of :\n",
        "\n",
        "    class Vehicle:\n",
        "        def start(self):\n",
        "            return \"Engine started\"\n",
        "\n",
        "    class Car(Vehicle):\n",
        "        def drive(self):\n",
        "            return \"Car is moving\"\n",
        "\n",
        "    c = Car()\n",
        "    print(c.start())  # Inherited from Vehicle\n",
        "    print(c.drive())  # Defined in Car\n",
        "\n",
        "    Output:\n",
        "    Engine started  \n",
        "    Car is moving\n",
        "\n"
      ],
      "metadata": {
        "id": "38tBsVUwN3jW"
      }
    },
    {
      "cell_type": "markdown",
      "source": [
        "7. What is polymorphism in OOP?\n",
        "- Polymorphism in OOP means \"many forms\" — it allows methods to behave differently based on the object calling them, even if they share the same name.allows the same method name to perform different tasks based on the object.\n",
        "\n",
        "Example:\n",
        "\n",
        "    class Bird:\n",
        "        def fly(self):\n",
        "            return \"Bird can fly\"\n",
        "\n",
        "    class Bat:\n",
        "        def fly(self):\n",
        "            return \"Bat flies at night\"\n",
        "\n",
        "     Polymorphism\n",
        "    for creature in (Bird(), Bat()):\n",
        "        print(creature.fly())\n",
        "    Output:\n",
        "\n",
        "    Bird can fly  \n",
        "    Bat flies at night\n",
        "This shows how the same method fly() works differently for different classes.\n"
      ],
      "metadata": {
        "id": "cNxT5lmTODXX"
      }
    },
    {
      "cell_type": "markdown",
      "source": [
        "## 8. How is encapsulation achieved in Python?\n",
        "- Encapsulation is the process of binding data and methods that operate on that data within a single unit (class).\n",
        "    - it is achieved by hiding internal data using private (__var)/protected (_var) variables/attributes\n",
        "    - It provides public methods to access or modify them (through getter and setter methods).\n",
        "    - It protects data from unauthorized access.\n",
        "    - Prevents direct modification of internal data.\n",
        "    - It helps in data security, code maintainability, and abstraction.\n",
        "\n",
        " Example:\n",
        "\n",
        "      class Person:\n",
        "          def __init__(self, name, age):\n",
        "              self.name = name        # Public\n",
        "              self.__age = age        # Private (name mangling)\n",
        "\n",
        "          def get_age(self):\n",
        "              return self.__age\n",
        "\n",
        "          def set_age(self, age):\n",
        "              if age > 0:\n",
        "                  self.__age = age\n",
        "\n",
        "      p = Person(\"Alice\", 30)\n",
        "      print(p.name)         # Accessible\n",
        "      print(p.get_age())    # Access private data via method    \n",
        "\n",
        "      Output :\n",
        "      Alice\n",
        "      30\n"
      ],
      "metadata": {
        "id": "Iyd39aAvOMDi"
      }
    },
    {
      "cell_type": "markdown",
      "source": [
        "## 9. What is a constructor in Python?\n",
        "- A constructor in Python is a special method used to create and initialize objects of a class. It sets the initial state of the object when it is created.\n",
        "\n",
        "Example:\n",
        "\n",
        "    class Car:\n",
        "        def __init__(self, brand):\n",
        "            self.brand = brand\n",
        "\n",
        "    my_car = Car(\"Toyota\")\n",
        "    print(my_car.brand)    Output: Toyota\n",
        "\n",
        "The __init__() method is the constructor and runs automatically when Car() is called."
      ],
      "metadata": {
        "id": "fdtFT3krOyDT"
      }
    },
    {
      "cell_type": "markdown",
      "source": [
        "## 10. What are class and static methods in Python?\n",
        "- Class methods are methods that are bound to the class and not the instance of the class. They can access or\n",
        "modify class state that applies across all instances of the class. Class methods are defined using the\n",
        "@classmethod decorator.\n",
        "- Static methods are methods that belong to the class and don't access or modify class or instance state. They\n",
        "are defined using the @staticmethod decorator.\n",
        "Example:\n",
        "\n",
        "      class Student:\n",
        "          school = \"ABC School\"\n",
        "\n",
        "          @classmethod\n",
        "          def get_school(cls):\n",
        "              return cls.school\n",
        "\n",
        "          @staticmethod\n",
        "          def greet(name):\n",
        "              return f\"Hello, {name}!\"\n",
        "\n",
        "      print(Student.get_school())         Output: ABC School\n",
        "      print(Student.greet(\"Anjali\"))      Output: Hello, Anjali!\n",
        "\n"
      ],
      "metadata": {
        "id": "jnsPRmqDPnzD"
      }
    },
    {
      "cell_type": "markdown",
      "source": [
        "### 11. What is method overloading in Python?\n",
        "- Method overloading means having multiple methods with the same name but different number or types of arguments.\n",
        "\n",
        " Python doesn’t support method overloading — only the last defined method is used.\n",
        "But we can simulate overloading using *args or default arguments.\n",
        "\n",
        "Example :\n",
        "\n",
        "    class Calculator:\n",
        "        def add(self, *args):\n",
        "            return sum(args)\n",
        "\n",
        "    calc = Calculator()\n",
        "    print(calc.add(2, 3))            Output: 5\n",
        "    print(calc.add(1, 2, 3, 4))      Output: 10\n",
        "\n",
        "\n"
      ],
      "metadata": {
        "id": "STDpOB0vP0q9"
      }
    },
    {
      "cell_type": "markdown",
      "source": [
        "## 12. What is method overriding in OOP?\n",
        "- Method overriding occurs when a subclass redefines a method with the same name and parameters as a method in its superclass, replacing its behavior.\n",
        "It is used to provide a specific implementation in the child class.\n",
        "\n",
        "Example :\n",
        "\n",
        "    class Person:\n",
        "        def greet(self):\n",
        "            return \"Hello!\"\n",
        "\n",
        "    class Student(Person):\n",
        "        def greet(self):\n",
        "            return \"Hi, I'm a student.\"\n",
        "\n",
        "    s = Student()\n",
        "    print(s.greet())    Output: Hi, I'm a student."
      ],
      "metadata": {
        "id": "6TSb_ZQQP-jc"
      }
    },
    {
      "cell_type": "markdown",
      "source": [
        "## 13. What is a property decorator in Python?\n",
        "- The @property decorator is used to define a method as a property, allowing you to access it like an attribute without using parentheses.\n",
        "\n",
        "It is commonly used to get (and optionally set) private attributes in a clean, controlled way.\n",
        "\n",
        "Example:\n",
        "\n",
        "    class Employee:\n",
        "        def __init__(self, salary):\n",
        "            self._salary = salary\n",
        "\n",
        "        @property\n",
        "        def bonus(self):\n",
        "            return self._salary * 0.10\n",
        "\n",
        "    e = Employee(50000)\n",
        "    print(e.bonus)   Output: 5000.0\n"
      ],
      "metadata": {
        "id": "mapVP3QnQF7p"
      }
    },
    {
      "cell_type": "markdown",
      "source": [
        "## 14. Why is polymorphism important in OOP?\n",
        "- Polymorphism is important in OOP because it allows the same method or function to work with different object types, making code more flexible and reusable,Improves Readability and supports Runtime Behavior.\n",
        "\n",
        " Example:\n",
        "\n",
        "      class Cat:\n",
        "          def speak(self):\n",
        "              return \"Meow\"\n",
        "\n",
        "      class Dog:\n",
        "          def speak(self):\n",
        "              return \"Bark\"\n",
        "\n",
        "      def animal_sound(animal):\n",
        "          print(animal.speak())\n",
        "\n",
        "      animal_sound(Cat())  # Meow\n",
        "      animal_sound(Dog())  # Bark\n",
        "\n",
        "      Output :\n",
        "      Meow\n",
        "      Bark\n",
        "\n",
        "This shows how the same function animal_sound() works with different objects — polymorphism in action.\n"
      ],
      "metadata": {
        "id": "YhwhmDzWQMgM"
      }
    },
    {
      "cell_type": "markdown",
      "source": [
        "## 15. What is an abstract class in Python?\n",
        "- Abstract class in Python is a class that cannot be directly instantiated and is used to define a common interface for its subclasses.\n",
        "\n",
        "Example:\n",
        "\n",
        "    from abc import ABC, abstractmethod\n",
        "\n",
        "    class Shape(ABC):\n",
        "        @abstractmethod\n",
        "        def area(self):\n",
        "            pass\n",
        "\n",
        "    class Circle(Shape):\n",
        "        def area(self):\n",
        "            return 3.14 * 5 * 5\n",
        "\n",
        "    c = Circle()\n",
        "    print(c.area())   Output: 78.5\n",
        "\n",
        " Abstract classes are defined using the ABC module and @abstractmethod."
      ],
      "metadata": {
        "id": "dPoaLCOIQV_w"
      }
    },
    {
      "cell_type": "markdown",
      "source": [
        "## 16. What are the advantages of OOP?\n",
        "- Advantages of Object-Oriented Programming (OOP):\n",
        "\n",
        "**Encapsulation**\n",
        ": Bundles data and methods within a class and restricts direct access to some components. This improves data security and integrity.\n",
        "\n",
        "**Inheritance**\n",
        ": Allows a class to inherit properties and methods from another class, promoting code reuse and reducing redundancy.\n",
        "\n",
        "**Polymorphism**\n",
        ": Enables a single function or method to behave differently based on the object calling it, improving flexibility and code manageability.\n",
        "\n",
        "**Abstraction**\n",
        ": Hides complex implementation details and shows only essential features, making code easier to use and understand.\n",
        "\n",
        "**Modularity**\n",
        ": Divides a program into independent, manageable classes or objects, which makes development, testing, and maintenance easier.\n",
        "\n",
        "**Code Reusability**\n",
        ": Once a class is written, it can be used in multiple programs or parts of the program, saving time and effort.\n",
        "\n",
        "**Maintainability**\n",
        ": Due to clear structure and separation of concerns, OOP code is easier to update, extend, or debug.\n",
        "\n",
        "**Scalability and Flexibility**\n",
        ": Programs can grow easily by adding new classes and objects without changing existing code structure significantly.\n",
        "\n",
        "\n",
        "\n"
      ],
      "metadata": {
        "id": "FQyLySNxQw1K"
      }
    },
    {
      "cell_type": "markdown",
      "source": [
        "## 17. What is the difference between a class variable and an instance variable?\n",
        "- Difference Between Class Variable and Instance Variable:\n",
        "\n",
        "**1. Class Variable:**\n",
        "\n",
        "A class variable is a variable that is shared by all instances (objects) of a class.\n",
        "\n",
        "It is defined within the class, but outside any methods.\n",
        "\n",
        "All objects of the class access the same memory location for a class variable.\n",
        "\n",
        "Used to store common data for all objects (e.g., a school name for all students).\n",
        "\n",
        "**2. Instance Variable:**\n",
        "\n",
        "An instance variable is unique to each object of the class.\n",
        "\n",
        "It is defined inside a method, typically within the __init__() constructor using self.\n",
        "\n",
        "Each object has its own copy of instance variables.\n",
        "\n",
        "Used to store individual data (e.g., the name or age of a specific student).\n",
        "\n"
      ],
      "metadata": {
        "id": "PH_Kmt5YQ3dU"
      }
    },
    {
      "cell_type": "markdown",
      "source": [
        "## 18. What is multiple inheritance in Python?\n",
        "- Multiple inheritance is a concept in object-oriented programming where a class can inherit from more than one base (parent) class.\n",
        "This means the child class gains the properties and behaviors of multiple classes, allowing for more flexible and powerful code reuse.\n",
        "\n",
        "Example :\n",
        "\n",
        "      class Father:\n",
        "          def skills(self):\n",
        "              return \"Gardening\"\n",
        "\n",
        "      class Mother:\n",
        "          def talents(self):\n",
        "              return \"Cooking\"\n",
        "\n",
        "      class Child(Father, Mother):\n",
        "          pass\n",
        "\n",
        "      c = Child()\n",
        "      print(c.skills())    Output: Gardening\n",
        "      print(c.talents())   Output: Cooking\n",
        "\n",
        " Multiple inheritance is useful but should be used carefully to avoid confusion and conflicts in method resolution."
      ],
      "metadata": {
        "id": "3AEgRRAQQ-EV"
      }
    },
    {
      "cell_type": "markdown",
      "source": [
        "## 19. Explain the purpose of ‘’str’ and ‘repr’ ‘ methods in Python.\n",
        "- **Purpose of __str__ Method in Python**\n",
        "\n",
        "The __str__ method in Python is a special (dunder) method used to define a human-readable string representation of an object.\n",
        "It is called when you use print() or str() on an object.\n",
        "\n",
        " Example:\n",
        "\n",
        "    class Student:\n",
        "        def __init__(self, name, grade):\n",
        "            self.name = name\n",
        "            self.grade = grade\n",
        "\n",
        "        def __str__(self):\n",
        "            return f\"Student: {self.name}, Grade: {self.grade}\"\n",
        "\n",
        "    s = Student(\"Ravi\", \"A\")\n",
        "    print(s)  # Output: Student: Ravi, Grade: A\n",
        "\n",
        "- **Purpose of __repr__ Method in Python**\n",
        "\n",
        "The __repr__ method is a special method in Python used to define the official string representation of an object.\n",
        "It is primarily meant for developers and is used for debugging and logging.\n",
        "\n",
        " Example:\n",
        "\n",
        "    class Student:\n",
        "        def __init__(self, name, grade):\n",
        "            self.name = name\n",
        "            self.grade = grade\n",
        "\n",
        "        def __repr__(self):\n",
        "            return f\"Student('{self.name}', '{self.grade}')\"\n",
        "\n",
        "    s = Student(\"Ravi\", \"A\")\n",
        "    print(repr(s))  # Output: Student('Ravi', 'A')\n",
        "\n"
      ],
      "metadata": {
        "id": "nMKygNagRGWf"
      }
    },
    {
      "cell_type": "markdown",
      "source": [
        "## 19. What is the significance of the ‘super()’ function in Python?\n",
        "- The super() function in Python is used to access methods or constructors of a parent class from a child class.\n",
        "It is mainly used in inheritance to ensure that the parent class is properly initialized or its methods are reused.\n",
        "\n",
        "Example:\n",
        "\n",
        "      class Vehicle:\n",
        "          def start(self):\n",
        "              print(\"Vehicle started\")\n",
        "\n",
        "      class Car(Vehicle):\n",
        "          def start(self):\n",
        "              super().start()  # Call parent method\n",
        "              print(\"Car started\")\n",
        "\n",
        "      c = Car()\n",
        "      c.start()\n",
        "\n",
        "      Output:\n",
        "\n",
        "      Vehicle started  \n",
        "      Car started\n",
        "\n",
        "\n",
        "super() is essential for reusing and extending parent class functionality.\n",
        "It simplifies working with complex class hierarchies.\n"
      ],
      "metadata": {
        "id": "wZY0HogPRPMl"
      }
    },
    {
      "cell_type": "markdown",
      "source": [
        "## 21. What is the significance of the __del__ method in Python?\n",
        "- The __del__ method in Python is called a destructor. It is automatically executed when an object is about to be destroyed.\n",
        "Its main purpose is to release resources that the object may be holding, like closing files or freeing up memory.\n",
        "\n",
        "Example:\n",
        "\n",
        "    class Sample:\n",
        "        def __del__(self):\n",
        "            print(\"Object destroyed\")\n",
        "\n",
        "    obj = Sample()\n",
        "    del obj  # Triggers __del__()\n",
        "\n",
        "Note: The __del__ method is managed by Python’s garbage collector, so its exact execution time is not always predictable.\n",
        "\n"
      ],
      "metadata": {
        "id": "f8KPalyxTBWp"
      }
    },
    {
      "cell_type": "markdown",
      "source": [
        "## 22. What is the difference between @staticmethod and @classmethod in Python?\n",
        "- In Python, both @staticmethod and @classmethod are decorators used to define methods inside a class that do not behave like regular instance methods. However, they serve different purposes.\n",
        "\n",
        "**@staticmethod:**\n",
        "A static method does not receive any reference to the class (cls) or instance (self).\n",
        "\n",
        "It behaves like a regular function, just placed inside a class for organizational purposes.\n",
        "\n",
        "Used when the method does not need to access class or instance data.\n",
        "\n",
        "**@classmethod:**\n",
        "A class method receives the class itself (cls) as the first argument.\n",
        "\n",
        "It can access or modify class-level variables or call other class methods.\n",
        "\n",
        "Often used to create factory methods or perform operations that affect the class as a whole.\n",
        "\n",
        "Example:\n",
        "\n",
        "    class Employee:\n",
        "        company_name = \"TechCorp\"\n",
        "\n",
        "        def __init__(self, name):\n",
        "            self.name = name\n",
        "\n",
        "        @staticmethod\n",
        "        def greet():\n",
        "            return \"Welcome to the company!\"\n",
        "\n",
        "        @classmethod\n",
        "        def get_company(cls):\n",
        "            return cls.company_name\n",
        "\n",
        "     Calling the methods\n",
        "    print(Employee.greet())          Output: Welcome to the company!\n",
        "    print(Employee.get_company())    Output: TechCorp"
      ],
      "metadata": {
        "id": "J1TsgruhTX0p"
      }
    },
    {
      "cell_type": "markdown",
      "source": [
        "## 23. How does polymorphism work in Python with inheritance?\n",
        "- Polymorphism allows child classes to override methods from a parent class.\n",
        "You can call the same method on different objects, and each object responds differently based on its class.With inheritance, different subclasses can implement the same method in their own way. Polymorphism lets you write generalized code that works for any subclass.\n",
        "\n",
        "Example:\n",
        "\n",
        "      class Vehicle:\n",
        "          def start(self):\n",
        "              return \"Starting vehicle\"\n",
        "\n",
        "      class Car(Vehicle):\n",
        "          def start(self):\n",
        "              return \"Starting car\"\n",
        "\n",
        "      class Bike(Vehicle):\n",
        "          def start(self):\n",
        "              return \"Starting bike\"\n",
        "\n",
        "      vehicles = [Car(), Bike()]\n",
        "\n",
        "      for v in vehicles:\n",
        "          print(v.start())\n",
        "\n",
        "      Output:\n",
        "\n",
        "      Starting car  \n",
        "      Starting bike\n",
        "\n",
        " Here, the start() method behaves differently for Car and Bike — that's polymorphism using inheritance.\n"
      ],
      "metadata": {
        "id": "aPGt8JYbTcwH"
      }
    },
    {
      "cell_type": "markdown",
      "source": [
        "## 24. What is method chaining in Python OOP?\n",
        "- Method chaining is a technique where multiple methods are called sequentially on the same object in a single expression.\n",
        "Each method must return the object (self) to allow the next method to be chained.\n",
        "\n",
        "Example:\n",
        "\n",
        "    class User:\n",
        "        def __init__(self):\n",
        "            self.data = {}\n",
        "\n",
        "        def set_username(self, username):\n",
        "            self.data['username'] = username\n",
        "            return self\n",
        "\n",
        "        def set_email(self, email):\n",
        "            self.data['email'] = email\n",
        "            return self\n",
        "\n",
        "        def display(self):\n",
        "            print(self.data)\n",
        "            return self\n",
        "\n",
        "    Chaining methods\n",
        "    user = User()\n",
        "    user.set_username(\"john\").set_email(\"john@example.com\").display()\n",
        "\n",
        "    Output:\n",
        "    {'username': 'john', 'email': 'john@example.com'}\n",
        "\n",
        "Method chaining makes the code more fluent, especially when setting up objects with multiple attributes or steps."
      ],
      "metadata": {
        "id": "CC6yK7QXTmDk"
      }
    },
    {
      "cell_type": "markdown",
      "source": [
        "## 25. What is the purpose of the __call__ method in Python?\n",
        "- The __call__ method in Python allows a class instance to act like a function.\n",
        "When you use parentheses after an object (e.g., obj()), Python automatically calls the object’s __call__() method making Objects Behave Like Functions\n",
        "\n",
        "Example:\n",
        "\n",
        "    class Adder:\n",
        "        def __init__(self, base):\n",
        "            self.base = base\n",
        "\n",
        "        def __call__(self, x):\n",
        "            return self.base + x\n",
        "\n",
        "    add_five = Adder(5)\n",
        "    print(add_five(10))   \n",
        "\n",
        "    Output: 15\n",
        "\n",
        "\n",
        "Here, add_five is an object, but calling it like add_five(10) works because of the __call__() method.\n",
        "\n"
      ],
      "metadata": {
        "id": "yOl7t_ANTrvI"
      }
    },
    {
      "cell_type": "markdown",
      "source": [
        "# Practical Questions"
      ],
      "metadata": {
        "id": "2WDifvjST0fR"
      }
    },
    {
      "cell_type": "code",
      "source": [
        "# 1. Create a parent class Animal with a method speak() that prints a generic message. Create a child class Dog that overrides the speak() method to print \"Bark!\".\n",
        "\n",
        "# Parent class\n",
        "class Animal:\n",
        "    def speak(self):\n",
        "        print(\"The animal makes a sound\")\n",
        "\n",
        "# Child class\n",
        "class Dog(Animal):\n",
        "    def speak(self):\n",
        "        print(\"Bark!\")\n",
        "\n",
        "a = Animal()\n",
        "d = Dog()\n",
        "\n",
        "a.speak()\n",
        "d.speak()"
      ],
      "metadata": {
        "colab": {
          "base_uri": "https://localhost:8080/"
        },
        "id": "E0y7G4umT75K",
        "outputId": "85ffc321-0f3e-4cf7-d401-86fe21d0ea11"
      },
      "execution_count": null,
      "outputs": [
        {
          "output_type": "stream",
          "name": "stdout",
          "text": [
            "The animal makes a sound\n",
            "Bark!\n"
          ]
        }
      ]
    },
    {
      "cell_type": "code",
      "source": [
        "# 2. Write a program to create an abstract class Shape with a method area(). Derive classes Circle and Rectangle from it and implement the area() method in both\n",
        "\n",
        "from abc import ABC, abstractmethod\n",
        "import math\n",
        "\n",
        "# Abstract base class\n",
        "class Shape(ABC):\n",
        "    @abstractmethod\n",
        "    def area(self):\n",
        "        pass\n",
        "\n",
        "# Derived class - Circle\n",
        "class Circle(Shape):\n",
        "    def __init__(self, radius):\n",
        "        self.radius = radius\n",
        "\n",
        "    def area(self):\n",
        "        return math.pi * self.radius ** 2\n",
        "\n",
        "# Derived class - Rectangle\n",
        "class Rectangle(Shape):\n",
        "    def __init__(self, width, height):\n",
        "        self.width = width\n",
        "        self.height = height\n",
        "\n",
        "    def area(self):\n",
        "        return self.width * self.height\n",
        "\n",
        "c = Circle(10)\n",
        "r = Rectangle(8, 12)\n",
        "\n",
        "print(\"Circle Area:\", c.area())\n",
        "print(\"Rectangle Area:\", r.area())"
      ],
      "metadata": {
        "colab": {
          "base_uri": "https://localhost:8080/"
        },
        "id": "QSmhWzd4UDlz",
        "outputId": "a32648d6-877b-4172-da49-c0532d197a9f"
      },
      "execution_count": null,
      "outputs": [
        {
          "output_type": "stream",
          "name": "stdout",
          "text": [
            "Circle Area: 314.1592653589793\n",
            "Rectangle Area: 96\n"
          ]
        }
      ]
    },
    {
      "cell_type": "code",
      "source": [
        "# 3. Implement a multi-level inheritance scenario where a class Vehicle has an attribute type. Derive a class Car and further derive a class ElectricCar that adds a battery attribute.\n",
        "\n",
        "# Base class\n",
        "class Vehicle:\n",
        "    def __init__(self, category):\n",
        "        self.category = category\n",
        "\n",
        "    def vehicle_info(self):\n",
        "        print(\"Category:\", self.category)\n",
        "\n",
        "# Intermediate class\n",
        "class Car(Vehicle):\n",
        "    def __init__(self, category, color):\n",
        "        super().__init__(category)\n",
        "        self.color = color\n",
        "\n",
        "    def car_info(self):\n",
        "        print(\"Car Color:\", self.color)\n",
        "\n",
        "# Derived class\n",
        "class ElectricCar(Car):\n",
        "    def __init__(self, category, color, range_km):\n",
        "        super().__init__(category, color)\n",
        "        self.range = range_km\n",
        "\n",
        "    def electric_info(self):\n",
        "        print(\"Electric Range:\", self.range, \"km\")\n",
        "\n",
        "my_car = ElectricCar(\"BMW\", \"Black\", 400)\n",
        "\n",
        "my_car.vehicle_info()\n",
        "my_car.car_info()\n",
        "my_car.electric_info()"
      ],
      "metadata": {
        "colab": {
          "base_uri": "https://localhost:8080/"
        },
        "id": "CIgyz2aDUbSD",
        "outputId": "4ee80242-5488-4648-cb54-ba22baee954f"
      },
      "execution_count": null,
      "outputs": [
        {
          "output_type": "stream",
          "name": "stdout",
          "text": [
            "Category: BMW\n",
            "Car Color: Black\n",
            "Electric Range: 400 km\n"
          ]
        }
      ]
    },
    {
      "cell_type": "code",
      "source": [
        "# 4. Demonstrate polymorphism by creating a base class Bird with a method fly(). Create two derived classes Sparrow and Penguin that override the fly() method.\n",
        "\n",
        "# Base class\n",
        "class Bird:\n",
        "    def fly(self):\n",
        "        print(\"Some birds can fly.\")\n",
        "\n",
        "# Derived class 1\n",
        "class Sparrow(Bird):\n",
        "    def fly(self):\n",
        "        print(\"Sparrow flies high in the sky.\")\n",
        "\n",
        "# Derived class 2\n",
        "class Penguin(Bird):\n",
        "    def fly(self):\n",
        "        print(\"Penguins cannot fly, they swim.\")\n",
        "\n",
        "# Polymorphism\n",
        "def bird_flight(bird):\n",
        "    bird.fly()\n",
        "\n",
        "b1 = Sparrow()\n",
        "b2 = Penguin()\n",
        "\n",
        "bird_flight(b1)\n",
        "bird_flight(b2)\n",
        "\n"
      ],
      "metadata": {
        "colab": {
          "base_uri": "https://localhost:8080/"
        },
        "id": "C_By4Y68U93B",
        "outputId": "24989c4e-63e7-495e-f862-069b2a869544"
      },
      "execution_count": null,
      "outputs": [
        {
          "output_type": "stream",
          "name": "stdout",
          "text": [
            "Sparrow flies high in the sky.\n",
            "Penguins cannot fly, they swim.\n"
          ]
        }
      ]
    },
    {
      "cell_type": "code",
      "source": [
        "# 5. Write a program to demonstrate encapsulation by creating a class BankAccount with private attributes balance and methods to deposit, withdraw, and check balance.\n",
        "\n",
        "class BankAccount:\n",
        "    def __init__(self, initial_balance=0):\n",
        "        self.__balance = initial_balance  # private attribute\n",
        "\n",
        "    def deposit(self, amount):\n",
        "        if amount > 0:\n",
        "            self.__balance += amount\n",
        "            print(f\"Deposited: {amount}\")\n",
        "        else:\n",
        "            print(\"Deposit amount must be positive.\")\n",
        "\n",
        "    def withdraw(self, amount):\n",
        "        if 0 < amount <= self.__balance:\n",
        "            self.__balance -= amount\n",
        "            print(f\"Withdrawn: {amount}\")\n",
        "        else:\n",
        "            print(\"Insufficient balance or invalid amount.\")\n",
        "\n",
        "    def check_balance(self):\n",
        "        print(f\"Current Balance: {self.__balance}\")\n",
        "\n",
        "\n",
        "account = BankAccount(5000)\n",
        "\n",
        "# Accessing data via public methods\n",
        "account.deposit(1000)\n",
        "account.withdraw(600)\n",
        "account.check_balance()"
      ],
      "metadata": {
        "colab": {
          "base_uri": "https://localhost:8080/"
        },
        "id": "Fb6aBGa0VE_F",
        "outputId": "5e40abfa-5db6-4d97-c283-d921362e7bf0"
      },
      "execution_count": null,
      "outputs": [
        {
          "output_type": "stream",
          "name": "stdout",
          "text": [
            "Deposited: 1000\n",
            "Withdrawn: 600\n",
            "Current Balance: 5400\n"
          ]
        }
      ]
    },
    {
      "cell_type": "code",
      "source": [
        "# 6. Demonstrate runtime polymorphism using a method play() in a base class Instrument. Derive classes Guitar and Piano that implement their own version of play().\n",
        "\n",
        "# Base class\n",
        "class Instrument:\n",
        "    def play(self):\n",
        "        print(\"Playing an instrument.\")\n",
        "\n",
        "# Derived class 1\n",
        "class Guitar(Instrument):\n",
        "    def play(self):\n",
        "        print(\"Guitar: Playing chords.\")\n",
        "\n",
        "# Derived class 2\n",
        "class Piano(Instrument):\n",
        "    def play(self):\n",
        "        print(\"Piano: Playing melody.\")\n",
        "\n",
        "# Derived class 3\n",
        "class Drums(Instrument):\n",
        "    def play(self):\n",
        "        print(\"Drums: Beating rhythm.\")\n",
        "\n",
        "# List of instruments (polymorphism )\n",
        "instruments = [Guitar(), Piano(), Drums()]\n",
        "\n",
        "for instr in instruments:\n",
        "    instr.play()\n"
      ],
      "metadata": {
        "colab": {
          "base_uri": "https://localhost:8080/"
        },
        "id": "h10DGaSXVSa8",
        "outputId": "f4bdd589-c2b8-47dd-badf-517d569f41a7"
      },
      "execution_count": null,
      "outputs": [
        {
          "output_type": "stream",
          "name": "stdout",
          "text": [
            "Guitar: Playing chords.\n",
            "Piano: Playing melody.\n",
            "Drums: Beating rhythm.\n"
          ]
        }
      ]
    },
    {
      "cell_type": "code",
      "source": [
        "# 7. Create a class MathOperations with a class method add_numbers() to add two numbers and a static method subtract_numbers() to subtract two numbers.\n",
        "\n",
        "class MathOperations:\n",
        "    operation_name = \"Basic Math\"\n",
        "\n",
        "    @classmethod\n",
        "    def add_numbers(cls, a, b):\n",
        "        print(f\"{cls.operation_name} - Addition\")\n",
        "        return a + b\n",
        "\n",
        "    @staticmethod\n",
        "    def subtract_numbers(a, b):\n",
        "        return a - b\n",
        "\n",
        "add_result = MathOperations.add_numbers(12, 7)\n",
        "sub_result = MathOperations.subtract_numbers(12, 7)\n",
        "\n",
        "print(\"Addition Result:\", add_result)\n",
        "print(\"Subtraction Result:\", sub_result)"
      ],
      "metadata": {
        "colab": {
          "base_uri": "https://localhost:8080/"
        },
        "id": "TKP3fLL6VkjJ",
        "outputId": "ff700424-cbea-4a1c-ba20-6fb69f78b17b"
      },
      "execution_count": null,
      "outputs": [
        {
          "output_type": "stream",
          "name": "stdout",
          "text": [
            "Basic Math - Addition\n",
            "Addition Result: 19\n",
            "Subtraction Result: 5\n"
          ]
        }
      ]
    },
    {
      "cell_type": "code",
      "source": [
        "# 8. Implement a class Person with a class method to count the total number of persons created.\n",
        "\n",
        "class Person:\n",
        "    count = 0  # Class variable to keep track of instances\n",
        "\n",
        "    def __init__(self, name):\n",
        "        self.name = name\n",
        "        Person.count += 1\n",
        "\n",
        "    @classmethod\n",
        "    def get_person_count(cls):\n",
        "        return cls.count\n",
        "\n",
        "p1 = Person(\"Shrishti\")\n",
        "p2 = Person(\"Divya\")\n",
        "p3 = Person(\"Kiran\")\n",
        "\n",
        "print(\"Total persons created:\", Person.get_person_count())"
      ],
      "metadata": {
        "colab": {
          "base_uri": "https://localhost:8080/"
        },
        "id": "LJrnOW7GVqN6",
        "outputId": "d96cacc0-0aeb-4ab5-ddb7-27c7c5e98705"
      },
      "execution_count": null,
      "outputs": [
        {
          "output_type": "stream",
          "name": "stdout",
          "text": [
            "Total persons created: 3\n"
          ]
        }
      ]
    },
    {
      "cell_type": "code",
      "source": [
        "# 9. Write a class Fraction with attributes numerator and denominator. Override the str method to display the fraction as \"numerator/denominator\".\n",
        "\n",
        "class Fraction:\n",
        "    def __init__(self, numerator, denominator):\n",
        "        self.numerator = numerator\n",
        "        self.denominator = denominator\n",
        "\n",
        "    def __str__(self):\n",
        "        return f\"{self.numerator}/{self.denominator}\"\n",
        "\n",
        "f1 = Fraction(6, 4)\n",
        "\n",
        "print(f1)"
      ],
      "metadata": {
        "colab": {
          "base_uri": "https://localhost:8080/"
        },
        "id": "Dv-uzhBzVvYZ",
        "outputId": "659cc8a1-7f79-4a61-d0f8-c99d7095e1b4"
      },
      "execution_count": null,
      "outputs": [
        {
          "output_type": "stream",
          "name": "stdout",
          "text": [
            "6/4\n"
          ]
        }
      ]
    },
    {
      "cell_type": "code",
      "source": [
        "# 10. Demonstrate operator overloading by creating a class Vector and overriding the add method to add two vectors.\n",
        "\n",
        "class Vector:\n",
        "    def __init__(self, x, y):\n",
        "        self.x = x\n",
        "        self.y = y\n",
        "\n",
        "    def __add__(self, other):\n",
        "        return Vector(self.x + other.x, self.y + other.y)\n",
        "\n",
        "    def __str__(self):\n",
        "        return f\"({self.x}, {self.y})\"\n",
        "\n",
        "v1 = Vector(10, 3)\n",
        "v2 = Vector(8, 7)\n",
        "\n",
        "result = v1 + v2\n",
        "\n",
        "print(\"Sum of vectors:\", result)"
      ],
      "metadata": {
        "id": "DQMkbecVV7sH",
        "colab": {
          "base_uri": "https://localhost:8080/"
        },
        "outputId": "f09d86d6-2fa6-4f82-802c-c615b42a9e45"
      },
      "execution_count": 1,
      "outputs": [
        {
          "output_type": "stream",
          "name": "stdout",
          "text": [
            "Sum of vectors: (18, 10)\n"
          ]
        }
      ]
    },
    {
      "cell_type": "code",
      "source": [
        "# 11. Create a class Person with attributes name and age. Add a method greet() that prints \"Hello, my name is {name} and I am {age} years old.\"\n",
        "\n",
        "class Person:\n",
        "    def __init__(self, name, age):\n",
        "        self.name = name\n",
        "        self.age = age\n",
        "\n",
        "    def greet(self):\n",
        "        print(f\"Hello, my name is {self.name} and I am {self.age} years old.\")\n",
        "\n",
        "person1 = Person(\"Poonam\", 29)\n",
        "person1.greet()"
      ],
      "metadata": {
        "id": "iiBHCeMQWDe2",
        "colab": {
          "base_uri": "https://localhost:8080/"
        },
        "outputId": "6faa433f-8dcc-4ae3-815a-3ee05ac0eaeb"
      },
      "execution_count": 2,
      "outputs": [
        {
          "output_type": "stream",
          "name": "stdout",
          "text": [
            "Hello, my name is Poonam and I am 29 years old.\n"
          ]
        }
      ]
    },
    {
      "cell_type": "code",
      "source": [
        "# 12. Implement a class Student with attributes name and grades. Create a method average_grade() to compute the average of the grades.\n",
        "\n",
        "class Student:\n",
        "    def __init__(self, name, grades):\n",
        "        self.name = name\n",
        "        self.grades = grades\n",
        "\n",
        "    def average_grade(self):\n",
        "        if len(self.grades) == 0:\n",
        "            return 0\n",
        "        return sum(self.grades) / len(self.grades)\n",
        "\n",
        "s1 = Student(\"Poonam\", [78, 92, 85])\n",
        "print(f\"{s1.name}'s average grade is: {s1.average_grade()}\")"
      ],
      "metadata": {
        "id": "MyPpGI9nWM7D",
        "colab": {
          "base_uri": "https://localhost:8080/"
        },
        "outputId": "7f4a19f2-187f-447c-9173-2fe4b627eb9a"
      },
      "execution_count": 4,
      "outputs": [
        {
          "output_type": "stream",
          "name": "stdout",
          "text": [
            "Poonam's average grade is: 85.0\n"
          ]
        }
      ]
    },
    {
      "cell_type": "code",
      "source": [
        "# 13. Create a class Rectangle with methods set_dimensions() to set the dimensions and area() to calculate the area.\n",
        "\n",
        "class Rectangle:\n",
        "    def __init__(self):\n",
        "        self.length = 0\n",
        "        self.width = 0\n",
        "\n",
        "    def set_dimensions(self, length, width):\n",
        "        self.length = length\n",
        "        self.width = width\n",
        "\n",
        "    def area(self):\n",
        "        return self.length * self.width\n",
        "\n",
        "r1 = Rectangle()\n",
        "r1.set_dimensions(10, 7)\n",
        "print(f\"Area: {r1.area()}\")"
      ],
      "metadata": {
        "id": "NlA0N74LWScp",
        "colab": {
          "base_uri": "https://localhost:8080/"
        },
        "outputId": "727b1439-959e-44b3-8da9-e058cc47b24c"
      },
      "execution_count": 5,
      "outputs": [
        {
          "output_type": "stream",
          "name": "stdout",
          "text": [
            "Area: 70\n"
          ]
        }
      ]
    },
    {
      "cell_type": "code",
      "source": [
        "# 14. Create a class Employee with a method calculate_salary() that computes the salary based on hours worked and hourly rate. Create a derived class Manager that adds a bonus to the salary.\n",
        "\n",
        "class Employee:\n",
        "    def __init__(self, name):\n",
        "        self.name = name\n",
        "\n",
        "    def calculate_salary(self, hours_worked, hourly_rate):\n",
        "\n",
        "# Compute base salary from hours and rate.\n",
        "        return hours_worked * hourly_rate\n",
        "\n",
        "\n",
        "class Manager(Employee):\n",
        "    def __init__(self, name, bonus=0.0):\n",
        "        super().__init__(name)\n",
        "        self.bonus = bonus\n",
        "\n",
        "    def calculate_salary(self, hours_worked, hourly_rate):\n",
        "\n",
        "# Manager salary = base salary + bonus.\n",
        "        base = super().calculate_salary(hours_worked, hourly_rate)\n",
        "        return base + self.bonus\n",
        "\n",
        "\n",
        "e = Employee(\"Poonam\")\n",
        "m = Manager(\"Mishra\", bonus=1000)\n",
        "\n",
        "print(f\"{e.name}'s salary:\", e.calculate_salary(48, 25))\n",
        "print(f\"{m.name}'s salary:\", m.calculate_salary(60, 50))"
      ],
      "metadata": {
        "id": "ZN7YQKC1WW_v",
        "colab": {
          "base_uri": "https://localhost:8080/"
        },
        "outputId": "7e673cd0-3d61-40eb-d7b8-5726fd53b760"
      },
      "execution_count": 8,
      "outputs": [
        {
          "output_type": "stream",
          "name": "stdout",
          "text": [
            "Poonam's salary: 1200\n",
            "Mishra's salary: 4000\n"
          ]
        }
      ]
    },
    {
      "cell_type": "code",
      "source": [
        "# 15. Create a class Product with attributes name, price, and quantity. Implement a method total_price() that calculates the total price of the product.\n",
        "class Product:\n",
        "    def __init__(self, name, price, quantity):\n",
        "        self.name = name\n",
        "        self.price = price\n",
        "        self.quantity = quantity\n",
        "\n",
        "    def total_price(self):\n",
        "        return self.price * self.quantity\n",
        "\n",
        "p1 = Product(\"music system\", 5000, 1)\n",
        "print(f\"Total price for {p1.name}: {p1.total_price()}\")"
      ],
      "metadata": {
        "id": "sHCUn0HOWdoQ",
        "colab": {
          "base_uri": "https://localhost:8080/"
        },
        "outputId": "7e20f901-b0c4-4269-9275-1d4f4f2d6788"
      },
      "execution_count": 9,
      "outputs": [
        {
          "output_type": "stream",
          "name": "stdout",
          "text": [
            "Total price for music system: 5000\n"
          ]
        }
      ]
    },
    {
      "cell_type": "code",
      "source": [
        "# 16. Create a class Animal with an abstract method sound(). Create two derived classes Dog and Cat that implement the sound() method.\n",
        "\n",
        "from abc import ABC, abstractmethod\n",
        "\n",
        "class Animal(ABC):\n",
        "    @abstractmethod\n",
        "    def sound(self):\n",
        "        pass\n",
        "\n",
        "\n",
        "class Dog(Animal):\n",
        "    def sound(self):\n",
        "        return \"Bark\"\n",
        "\n",
        "\n",
        "class Cat(Animal):\n",
        "    def sound(self):\n",
        "        return \"Meow\"\n",
        "\n",
        "dog = Dog()\n",
        "cat = Cat()\n",
        "\n",
        "print(f\"Dog sound: {dog.sound()}\")\n",
        "print(f\"Cat sound: {cat.sound()}\")"
      ],
      "metadata": {
        "id": "YXBhyxEnWl05",
        "colab": {
          "base_uri": "https://localhost:8080/"
        },
        "outputId": "01cf48cc-ad28-4bd8-b7c3-9f43e53176d1"
      },
      "execution_count": 14,
      "outputs": [
        {
          "output_type": "stream",
          "name": "stdout",
          "text": [
            "Dog sound: Bark\n",
            "Cat sound: Meow\n"
          ]
        }
      ]
    },
    {
      "cell_type": "code",
      "source": [
        "# 17. Create a class Book with attributes title, author, and year_published. Add a method get_book_info() that returns a formatted string with the book's details.\n",
        "\n",
        "class Book:\n",
        "    def __init__(self, title, author, year_published):\n",
        "        self.title = title\n",
        "        self.author = author\n",
        "        self.year_published = year_published\n",
        "\n",
        "    def get_book_info(self):\n",
        "        return f\"'{self.title}' by {self.author} (Published: {self.year_published})\"\n",
        "\n",
        "book1 = Book(\n",
        "   \"Ikigai: The Japanese Secret to a Long and Happy Life\",\n",
        "    \"Héctor García and Francesc Miralles\",\n",
        "    \"March 2016\")\n",
        "\n",
        "\n",
        "print(book1.get_book_info())"
      ],
      "metadata": {
        "id": "-3ceosvlWuEI",
        "colab": {
          "base_uri": "https://localhost:8080/"
        },
        "outputId": "47c457b9-4a42-4078-a620-e6026f83e474"
      },
      "execution_count": 16,
      "outputs": [
        {
          "output_type": "stream",
          "name": "stdout",
          "text": [
            "'Ikigai: The Japanese Secret to a Long and Happy Life' by Héctor García and Francesc Miralles (Published: March 2016)\n"
          ]
        }
      ]
    },
    {
      "cell_type": "code",
      "source": [
        "# 18. Create a class House with attributes address and price. Create a derived class Mansion that adds an attribute number_of_rooms.\n",
        "\n",
        "class House:\n",
        "    def __init__(self, address, price):\n",
        "        self.address = address\n",
        "        self.price = price\n",
        "\n",
        "    def get_info(self):\n",
        "        return f\"House located at {self.address}, Price: ₹{self.price}\"\n",
        "\n",
        "\n",
        "class Mansion(House):\n",
        "    def __init__(self, address, price, number_of_rooms):\n",
        "        super().__init__(address, price)\n",
        "        self.number_of_rooms = number_of_rooms\n",
        "\n",
        "    def get_info(self):\n",
        "        return f\"Mansion located at {self.address}, Price: ₹{self.price}, Rooms: {self.number_of_rooms}\"\n",
        "\n",
        "\n",
        "house = House(\"306 Mhalsa height\", 960000)\n",
        "mansion = Mansion(\"25 Shastri villa\", 23000000, 15)   # example: 15 rooms\n",
        "\n",
        "\n",
        "print(house.get_info())\n",
        "print(mansion.get_info())"
      ],
      "metadata": {
        "id": "ceOieXO-Wzle",
        "colab": {
          "base_uri": "https://localhost:8080/"
        },
        "outputId": "5a18099a-3511-49f9-c273-230e07f72958"
      },
      "execution_count": 17,
      "outputs": [
        {
          "output_type": "stream",
          "name": "stdout",
          "text": [
            "House located at 306 Mhalsa height, Price: ₹960000\n",
            "Mansion located at 25 Shastri villa, Price: ₹23000000, Rooms: 15\n"
          ]
        }
      ]
    }
  ]
}